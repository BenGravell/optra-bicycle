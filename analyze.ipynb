{
 "cells": [
  {
   "cell_type": "code",
   "execution_count": null,
   "metadata": {},
   "outputs": [],
   "source": [
    "import os\n",
    "import glob\n",
    "from pathlib import Path\n",
    "\n",
    "import numpy as np\n",
    "import pandas as pd\n",
    "import matplotlib\n",
    "import matplotlib.pyplot as plt"
   ]
  },
  {
   "cell_type": "code",
   "execution_count": null,
   "metadata": {},
   "outputs": [],
   "source": [
    "paths = sorted(Path(\"data/state\").glob(\"*.csv\"))\n",
    "N = len(paths)\n",
    "T = len(pd.read_csv(paths[0], header=None)) - 1\n",
    "n = 4\n",
    "m = 2\n",
    "p = 1  # lat accel"
   ]
  },
  {
   "cell_type": "code",
   "execution_count": null,
   "metadata": {},
   "outputs": [],
   "source": [
    "targets = np.empty((N, n))\n",
    "states = np.empty((N, T+1, n))\n",
    "actions = np.empty((N, T, m))\n",
    "auxs = np.empty((N, T, p))\n",
    "for i, path in enumerate(paths):\n",
    "    target_state_str = path.stem\n",
    "    target = ([float(v) for v in target_state_str.split(\"_\")])\n",
    "    target[2] *= (np.pi / 180)\n",
    "    targets[i] = target\n",
    "    state = pd.read_csv(Path(\"data/state\") / f\"{target_state_str}.csv\", header=None).to_numpy()\n",
    "    action = pd.read_csv(Path(\"data/action\") / f\"{target_state_str}.csv\", header=None).to_numpy()\n",
    "    states[i] = state\n",
    "    actions[i] = action\n",
    "    speed = state[0:T, 3]\n",
    "    curvature = action[0:T, 1]\n",
    "    lat_accel = curvature * (speed ** 2)\n",
    "    aux = lat_accel[:, None]\n",
    "    auxs[i] = aux"
   ]
  },
  {
   "cell_type": "code",
   "execution_count": null,
   "metadata": {},
   "outputs": [],
   "source": [
    "plt.figure(figsize=(12, 4))\n",
    "cmap = matplotlib.colormaps.get(\"turbo\")\n",
    "\n",
    "for target, state_arr, action_arr, aux_arr in zip(targets, states, actions, auxs):\n",
    "    # # terminal speed near 10.0\n",
    "    # if not abs(target[3] - 10.0) < 0.1:\n",
    "    #     continue\n",
    "    # # distance x near 10.0\n",
    "    # if not abs(target[0] - 10.0) < 0.1:\n",
    "    #     continue\n",
    "    # if not abs(target[2] - 0.0) < 0.1:\n",
    "    #     continue\n",
    "\n",
    "    # x = target[0]\n",
    "    # y = target[1]\n",
    "    # v = target[3]\n",
    "    # color = cmap(0.5 + 0.5 * ((v - 10.0) / 3.0))\n",
    "    # color = cmap(y / 3.0)\n",
    "\n",
    "\n",
    "    z_lat = np.percentile(np.abs(aux_arr[:, 0]), q=75) / 6.0\n",
    "    z_lon = np.percentile(np.abs(action_arr[:, 0]), q=75) / 3.0\n",
    "\n",
    "    # # lat accel\n",
    "    # z = z_lat\n",
    "    \n",
    "    # # lon accel\n",
    "    # z = z_lon\n",
    "\n",
    "    # combined accel, mellowmax\n",
    "    z = np.log(np.mean(np.exp([z_lat, z_lon])))\n",
    "\n",
    "    color = cmap(np.clip(z, 0, 1))\n",
    "    # color = np.clip([z_lat, 0, z_lon], 0, 1)\n",
    "\n",
    "    plt.plot(state_arr[:, 0], state_arr[:, 1], c=color, lw=1, zorder=1, markersize=4)\n",
    "\n",
    "plt.scatter(targets[:, 0], targets[:, 1], c='k', s=10, alpha=0.7, zorder=2)\n",
    "plt.xticks(np.arange(12+1, step=0.4), rotation=45)\n",
    "# plt.axis(\"equal\")\n",
    "plt.grid()\n",
    "plt.show()"
   ]
  },
  {
   "cell_type": "code",
   "execution_count": null,
   "metadata": {},
   "outputs": [],
   "source": [
    "plt.figure(figsize=(6, 4))\n",
    "cmap = matplotlib.colormaps.get(\"turbo\")\n",
    "\n",
    "plt.axhline(-3.0, c=\"r\")\n",
    "plt.axhline(3.0, c=\"r\")\n",
    "\n",
    "for target, state_arr, action_arr in zip(targets, states, actions):\n",
    "    a = action_arr[:, 0]\n",
    "    \n",
    "    # # DEBUG filter for high acceleration reversals\n",
    "    # if np.sum(np.abs(np.diff(np.diff(a))) > 0.8) < 3:\n",
    "    #     continue\n",
    "    # print(target)\n",
    "\n",
    "    plt.plot(a, c=\"k\", lw=1, zorder=1)\n",
    "\n",
    "# plt.ylim((2.9, 3.1))\n",
    "plt.grid()\n",
    "plt.show()"
   ]
  },
  {
   "cell_type": "code",
   "execution_count": null,
   "metadata": {},
   "outputs": [],
   "source": [
    "plt.figure(figsize=(6, 4))\n",
    "cmap = matplotlib.colormaps.get(\"turbo\")\n",
    "\n",
    "plt.axhline(-6.0, c=\"r\")\n",
    "plt.axhline(6.0, c=\"r\")\n",
    "\n",
    "for target, aux_arr in zip(targets, auxs):\n",
    "    plt.plot(aux_arr[:, 0], c=\"k\", lw=1, zorder=1)\n",
    "\n",
    "# plt.ylim((5.9, 6.1))\n",
    "plt.grid()\n",
    "plt.show()"
   ]
  },
  {
   "cell_type": "code",
   "execution_count": null,
   "metadata": {},
   "outputs": [],
   "source": [
    "# for action_arr in actions:\n",
    "#     plt.plot(action_arr[:, 1], c=\"k\", lw=0.5)\n",
    "# plt.show()"
   ]
  },
  {
   "cell_type": "code",
   "execution_count": null,
   "metadata": {},
   "outputs": [],
   "source": [
    "# states = pd.read_csv(\"state.csv\", header=None)\n",
    "# states.columns = [\"x\", \"y\", \"yaw\"]\n",
    "# actions = pd.read_csv(\"action.csv\", header=None)\n",
    "# actions.columns = [\"speed\", \"steering\"]"
   ]
  },
  {
   "cell_type": "code",
   "execution_count": null,
   "metadata": {},
   "outputs": [],
   "source": [
    "# plt.figure(figsize=(10, 2))\n",
    "# for state in states.to_numpy():\n",
    "#     x = state[0]\n",
    "#     y = state[1]\n",
    "#     dx = 0.5 * np.cos(state[2])\n",
    "#     dy = 0.5 * np.sin(state[2])\n",
    "#     plt.arrow(x, y, dx, dy, width=0.05, color=\"k\", edgecolor=None)\n",
    "# plt.axis(\"equal\")\n",
    "# plt.grid()\n",
    "# plt.show()"
   ]
  },
  {
   "cell_type": "code",
   "execution_count": null,
   "metadata": {},
   "outputs": [],
   "source": [
    "# fig, axs = plt.subplots(nrows=2, sharex=True)\n",
    "# axs[0].plot(actions.index, actions[\"speed\"])\n",
    "# axs[1].plot(actions.index, actions[\"steering\"])\n",
    "# plt.show()"
   ]
  }
 ],
 "metadata": {
  "kernelspec": {
   "display_name": "base",
   "language": "python",
   "name": "python3"
  },
  "language_info": {
   "codemirror_mode": {
    "name": "ipython",
    "version": 3
   },
   "file_extension": ".py",
   "mimetype": "text/x-python",
   "name": "python",
   "nbconvert_exporter": "python",
   "pygments_lexer": "ipython3",
   "version": "3.11.4"
  }
 },
 "nbformat": 4,
 "nbformat_minor": 2
}
